{
 "cells": [
  {
   "cell_type": "code",
   "execution_count": 3,
   "metadata": {},
   "outputs": [
    {
     "name": "stdout",
     "output_type": "stream",
     "text": [
      "<class 'pandas.core.frame.DataFrame'>\n",
      "RangeIndex: 450 entries, 0 to 449\n",
      "Data columns (total 5 columns):\n",
      " #   Column     Non-Null Count  Dtype  \n",
      "---  ------     --------------  -----  \n",
      " 0   series_id  450 non-null    object \n",
      " 1   step       450 non-null    uint32 \n",
      " 2   timestamp  450 non-null    object \n",
      " 3   anglez     450 non-null    float32\n",
      " 4   enmo       450 non-null    float32\n",
      "dtypes: float32(2), object(2), uint32(1)\n",
      "memory usage: 71.3 KB\n",
      "len before: 450, mem usage before: None\n",
      "unique series_id: ['038441c925bb' '03d92c9f6f8a' '0402a003dae9']\n",
      "      series_id  step                 timestamp  anglez    enmo\n",
      "0  038441c925bb     0  2018-08-14T15:30:00-0400  2.6367  0.0217\n",
      "1  038441c925bb     1  2018-08-14T15:30:05-0400  2.6368  0.0215\n",
      "2  038441c925bb     2  2018-08-14T15:30:10-0400  2.6370  0.0216\n",
      "3  038441c925bb     3  2018-08-14T15:30:15-0400  2.6368  0.0213\n",
      "4  038441c925bb     4  2018-08-14T15:30:20-0400  2.6368  0.0215\n",
      "<class 'pandas.core.frame.DataFrame'>\n",
      "RangeIndex: 1800 entries, 0 to 1799\n",
      "Data columns (total 5 columns):\n",
      " #   Column     Non-Null Count  Dtype  \n",
      "---  ------     --------------  -----  \n",
      " 0   series_id  1800 non-null   object \n",
      " 1   step       1800 non-null   uint32 \n",
      " 2   timestamp  1800 non-null   object \n",
      " 3   anglez     1800 non-null   float32\n",
      " 4   enmo       1800 non-null   float32\n",
      "dtypes: float32(2), object(2), uint32(1)\n",
      "memory usage: 286.2 KB\n",
      "len after: 1800, mem usage after: None\n",
      "unique series_id: ['038441c925bb' '03d92c9f6f8a' '0402a003dae9' '038441c925bb1'\n",
      " '03d92c9f6f8a1' '0402a003dae91' '038441c925bb2' '03d92c9f6f8a2'\n",
      " '0402a003dae92' '038441c925bb3' '03d92c9f6f8a3' '0402a003dae93']\n"
     ]
    }
   ],
   "source": [
    "# Test memory usage by duplicating the series in the dataframe 4 times\n",
    "# Rename the extra series_id to avoid confusion\n",
    "import pandas as pd\n",
    "df = pd.read_parquet('data/raw/test_series.parquet') #df = pd.read_parquet('/kaggle/input/child-mind-institute-detect-sleep-states/test_series.parquet') \n",
    "\n",
    "df_1 = df.copy()\n",
    "df_2 = df.copy()\n",
    "df_3 = df.copy()\n",
    "\n",
    "# Rename the series_id by adding \"1\" for each series in the dataframe\n",
    "df_1[\"series_id\"] = df_1[\"series_id\"].astype(str) + \"1\"\n",
    "df_2[\"series_id\"] = df_2[\"series_id\"].astype(str) + \"2\"\n",
    "df_3[\"series_id\"] = df_3[\"series_id\"].astype(str) + \"3\"\n",
    "\n",
    "# Concatenate the dataframes\n",
    "print(f\"len before: {len(df)}, mem usage before: {df.info(memory_usage='deep')}\")\n",
    "print(f\"unique series_id: {df.series_id.unique()}\")\n",
    "df = pd.concat([df, df_1, df_2, df_3], ignore_index=True)\n",
    "print(df.head())\n",
    "print(f\"len after: {len(df)}, mem usage after: {df.info(memory_usage='deep')}\")\n",
    "\n",
    "# Print unique series_id\n",
    "print(f\"unique series_id: {df.series_id.unique()}\")\n",
    "\n",
    "# Save the dataframe\n",
    "df.to_parquet('data/raw/test_series_increased.parquet', index=False) # Save to path and then when running model load from this path (Usually /kaggle/working/)\n",
    "\n"
   ]
  }
 ],
 "metadata": {
  "kernelspec": {
   "display_name": ".venv",
   "language": "python",
   "name": "python3"
  },
  "language_info": {
   "codemirror_mode": {
    "name": "ipython",
    "version": 3
   },
   "file_extension": ".py",
   "mimetype": "text/x-python",
   "name": "python",
   "nbconvert_exporter": "python",
   "pygments_lexer": "ipython3",
   "version": "3.11.3"
  }
 },
 "nbformat": 4,
 "nbformat_minor": 2
}
