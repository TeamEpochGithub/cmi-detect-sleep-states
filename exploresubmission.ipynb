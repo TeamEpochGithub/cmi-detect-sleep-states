{
 "cells": [
  {
   "cell_type": "code",
   "execution_count": 18,
   "id": "initial_id",
   "metadata": {
    "collapsed": true,
    "ExecuteTime": {
     "end_time": "2023-10-04T13:48:44.840477300Z",
     "start_time": "2023-10-04T13:48:44.830817400Z"
    }
   },
   "outputs": [],
   "source": [
    "import pandas as pd\n",
    "from src.score.scoring import score\n",
    "import json"
   ]
  },
  {
   "cell_type": "code",
   "execution_count": 19,
   "outputs": [],
   "source": [
    "submission = pd.read_csv('./submission.csv')\n",
    "solution = pd.read_csv('./data/raw/train_events.csv')"
   ],
   "metadata": {
    "collapsed": false,
    "ExecuteTime": {
     "end_time": "2023-10-04T13:48:45.353690300Z",
     "start_time": "2023-10-04T13:48:45.338063700Z"
    }
   },
   "id": "b08175f03ce24269"
  },
  {
   "cell_type": "code",
   "execution_count": 20,
   "outputs": [
    {
     "data": {
      "text/plain": "   row_id  series_id   event   step  score\n0       0          0   onset   5046    1.0\n1       1          0  wakeup   8794    1.0\n2       2          0   onset  20336    1.0\n3       3          0  wakeup  23482    1.0\n4       4          0   onset  40049    1.0",
      "text/html": "<div>\n<style scoped>\n    .dataframe tbody tr th:only-of-type {\n        vertical-align: middle;\n    }\n\n    .dataframe tbody tr th {\n        vertical-align: top;\n    }\n\n    .dataframe thead th {\n        text-align: right;\n    }\n</style>\n<table border=\"1\" class=\"dataframe\">\n  <thead>\n    <tr style=\"text-align: right;\">\n      <th></th>\n      <th>row_id</th>\n      <th>series_id</th>\n      <th>event</th>\n      <th>step</th>\n      <th>score</th>\n    </tr>\n  </thead>\n  <tbody>\n    <tr>\n      <th>0</th>\n      <td>0</td>\n      <td>0</td>\n      <td>onset</td>\n      <td>5046</td>\n      <td>1.0</td>\n    </tr>\n    <tr>\n      <th>1</th>\n      <td>1</td>\n      <td>0</td>\n      <td>wakeup</td>\n      <td>8794</td>\n      <td>1.0</td>\n    </tr>\n    <tr>\n      <th>2</th>\n      <td>2</td>\n      <td>0</td>\n      <td>onset</td>\n      <td>20336</td>\n      <td>1.0</td>\n    </tr>\n    <tr>\n      <th>3</th>\n      <td>3</td>\n      <td>0</td>\n      <td>wakeup</td>\n      <td>23482</td>\n      <td>1.0</td>\n    </tr>\n    <tr>\n      <th>4</th>\n      <td>4</td>\n      <td>0</td>\n      <td>onset</td>\n      <td>40049</td>\n      <td>1.0</td>\n    </tr>\n  </tbody>\n</table>\n</div>"
     },
     "execution_count": 20,
     "metadata": {},
     "output_type": "execute_result"
    }
   ],
   "source": [
    "submission.head()"
   ],
   "metadata": {
    "collapsed": false,
    "ExecuteTime": {
     "end_time": "2023-10-04T13:48:45.738600100Z",
     "start_time": "2023-10-04T13:48:45.700342900Z"
    }
   },
   "id": "76a4c6211a4e5ac1"
  },
  {
   "cell_type": "code",
   "execution_count": 21,
   "outputs": [
    {
     "name": "stdout",
     "output_type": "stream",
     "text": [
      "Found 0 consecutive equal events\n"
     ]
    }
   ],
   "source": [
    "same = submission[submission['event'] == submission['event'].shift(1)]\n",
    "print(f'Found {len(same)} consecutive equal events')\n",
    "if len(same) > 0:\n",
    "    print(same)"
   ],
   "metadata": {
    "collapsed": false,
    "ExecuteTime": {
     "end_time": "2023-10-04T13:48:46.218028200Z",
     "start_time": "2023-10-04T13:48:46.206522700Z"
    }
   },
   "id": "153a9f0a2ceec9e0"
  },
  {
   "cell_type": "code",
   "execution_count": 23,
   "outputs": [],
   "source": [
    "tolerances = {\n",
    "    'onset': [12, 36, 60, 90, 120, 150, 180, 240, 300, 360],\n",
    "    'wakeup': [12, 36, 60, 90, 120, 150, 180, 240, 300, 360],\n",
    "}\n",
    "\n",
    "column_names = {\n",
    "    'series_id_column_name': 'series_id',\n",
    "    'time_column_name':  'step',\n",
    "    'event_column_name': 'event',\n",
    "    'score_column_name': 'score',\n",
    "}\n",
    "\n",
    "result = score(solution, submission, tolerances, **column_names)"
   ],
   "metadata": {
    "collapsed": false,
    "ExecuteTime": {
     "end_time": "2023-10-04T13:49:46.216121300Z",
     "start_time": "2023-10-04T13:49:06.126473900Z"
    }
   },
   "id": "67794ee2a6edb3bd"
  },
  {
   "cell_type": "code",
   "execution_count": null,
   "outputs": [],
   "source": [],
   "metadata": {
    "collapsed": false
   },
   "id": "f30a3c64a4dcea8"
  }
 ],
 "metadata": {
  "kernelspec": {
   "display_name": "Python 3",
   "language": "python",
   "name": "python3"
  },
  "language_info": {
   "codemirror_mode": {
    "name": "ipython",
    "version": 2
   },
   "file_extension": ".py",
   "mimetype": "text/x-python",
   "name": "python",
   "nbconvert_exporter": "python",
   "pygments_lexer": "ipython2",
   "version": "2.7.6"
  }
 },
 "nbformat": 4,
 "nbformat_minor": 5
}
