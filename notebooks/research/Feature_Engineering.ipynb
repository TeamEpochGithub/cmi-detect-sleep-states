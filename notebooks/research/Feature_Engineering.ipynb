{
 "cells": [
  {
   "cell_type": "markdown",
   "metadata": {},
   "source": [
    "# Feature Engineering"
   ]
  },
  {
   "cell_type": "markdown",
   "metadata": {},
   "source": [
    "Load data"
   ]
  },
  {
   "cell_type": "code",
   "execution_count": 7,
   "metadata": {},
   "outputs": [],
   "source": [
    "import pandas as pd\n",
    "import gc\n",
    "train = pd.read_parquet('../data/test_series.parquet')\n",
    "train[\"timestamp\"] = pd.to_datetime(train[\"timestamp\"],utc=True)\n",
    "train_reset = train.copy()"
   ]
  },
  {
   "cell_type": "markdown",
   "metadata": {},
   "source": [
    "### Timestamp derivatives\n",
    "- Hour\n",
    "- Weekday\n",
    "- Weekend\n",
    "- Month\n",
    "- Day"
   ]
  },
  {
   "cell_type": "code",
   "execution_count": 8,
   "metadata": {},
   "outputs": [
    {
     "name": "stdout",
     "output_type": "stream",
     "text": [
      "      series_id  step                 timestamp  anglez    enmo  hour  \\\n",
      "0  038441c925bb     0 2018-08-14 19:30:00+00:00  2.6367  0.0217    19   \n",
      "1  038441c925bb     1 2018-08-14 19:30:05+00:00  2.6368  0.0215    19   \n",
      "2  038441c925bb     2 2018-08-14 19:30:10+00:00  2.6370  0.0216    19   \n",
      "3  038441c925bb     3 2018-08-14 19:30:15+00:00  2.6368  0.0213    19   \n",
      "4  038441c925bb     4 2018-08-14 19:30:20+00:00  2.6368  0.0215    19   \n",
      "\n",
      "   weekday  weekend  month  day  \n",
      "0        1        0      8   14  \n",
      "1        1        0      8   14  \n",
      "2        1        0      8   14  \n",
      "3        1        0      8   14  \n",
      "4        1        0      8   14  \n"
     ]
    }
   ],
   "source": [
    "# Add hour column from timestamp to train data\n",
    "train['hour'] = train['timestamp'].dt.hour\n",
    "# Add weekday column from timestamp to train data\n",
    "train['weekday'] = train['timestamp'].dt.weekday\n",
    "# Add weekend column from timestamp to train data\n",
    "train['weekend'] = train['weekday'].apply(lambda x: 1 if x >= 5 else 0)\n",
    "# Add month column from timestamp to train data\n",
    "train['month'] = train['timestamp'].dt.month\n",
    "# Add day column from timestamp to train data\n",
    "train['day'] = train['timestamp'].dt.day\n",
    "\n",
    "print(train.head())\n",
    "train = train_reset.copy()\n",
    "\n"
   ]
  },
  {
   "cell_type": "markdown",
   "metadata": {},
   "source": [
    "### Feature cross\n",
    "- Multiplying anglez & enmo"
   ]
  },
  {
   "cell_type": "code",
   "execution_count": 9,
   "metadata": {},
   "outputs": [
    {
     "name": "stdout",
     "output_type": "stream",
     "text": [
      "      series_id  step                 timestamp  anglez    enmo  anglez_enmo\n",
      "0  038441c925bb     0 2018-08-14 19:30:00+00:00  2.6367  0.0217     0.057216\n",
      "1  038441c925bb     1 2018-08-14 19:30:05+00:00  2.6368  0.0215     0.056691\n",
      "2  038441c925bb     2 2018-08-14 19:30:10+00:00  2.6370  0.0216     0.056959\n",
      "3  038441c925bb     3 2018-08-14 19:30:15+00:00  2.6368  0.0213     0.056164\n",
      "4  038441c925bb     4 2018-08-14 19:30:20+00:00  2.6368  0.0215     0.056691\n"
     ]
    }
   ],
   "source": [
    "# Add column multiplying anglez and enmo\n",
    "train['anglez_enmo'] = train['anglez']*train['enmo']\n",
    "print(train.head())\n",
    "train = train_reset.copy()"
   ]
  },
  {
   "cell_type": "markdown",
   "metadata": {},
   "source": [
    "### Rolling statistics\n",
    "- For 'enmo and 'anglez' columns, calculates various rolling statistics like mean, median, max, min skewness and kurtosis"
   ]
  },
  {
   "cell_type": "code",
   "execution_count": 12,
   "metadata": {},
   "outputs": [
    {
     "name": "stdout",
     "output_type": "stream",
     "text": [
      "Created diff and smoothed derivates from enmo\n",
      "Created diff and smoothed derivates from anglez\n",
      "      series_id  step                 timestamp  anglez    enmo  enmo_diff_5  \\\n",
      "0  038441c925bb     0 2018-08-14 19:30:00+00:00  2.6367  0.0217          NaN   \n",
      "1  038441c925bb     1 2018-08-14 19:30:05+00:00  2.6368  0.0215          NaN   \n",
      "2  038441c925bb     2 2018-08-14 19:30:10+00:00  2.6370  0.0216          NaN   \n",
      "3  038441c925bb     3 2018-08-14 19:30:15+00:00  2.6368  0.0213          NaN   \n",
      "4  038441c925bb     4 2018-08-14 19:30:20+00:00  2.6368  0.0215          NaN   \n",
      "\n",
      "   enmo_mean_5  enmo_median_5  enmo_max_5  enmo_min_5  ...  anglez_min_60  \\\n",
      "0          NaN            NaN         NaN         NaN  ...            NaN   \n",
      "1          NaN            NaN         NaN         NaN  ...            NaN   \n",
      "2          NaN            NaN         NaN         NaN  ...            NaN   \n",
      "3          NaN            NaN         NaN         NaN  ...            NaN   \n",
      "4      0.02152         0.0215      0.0217      0.0213  ...            NaN   \n",
      "\n",
      "   anglez_skew_60  anglez_kurt_60  anglez_diff_120  anglez_mean_120  \\\n",
      "0             NaN             NaN              NaN              NaN   \n",
      "1             NaN             NaN              NaN              NaN   \n",
      "2             NaN             NaN              NaN              NaN   \n",
      "3             NaN             NaN              NaN              NaN   \n",
      "4             NaN             NaN              NaN              NaN   \n",
      "\n",
      "   anglez_median_120  anglez_max_120  anglez_min_120  anglez_skew_120  \\\n",
      "0                NaN             NaN             NaN              NaN   \n",
      "1                NaN             NaN             NaN              NaN   \n",
      "2                NaN             NaN             NaN              NaN   \n",
      "3                NaN             NaN             NaN              NaN   \n",
      "4                NaN             NaN             NaN              NaN   \n",
      "\n",
      "   anglez_kurt_120  \n",
      "0              NaN  \n",
      "1              NaN  \n",
      "2              NaN  \n",
      "3              NaN  \n",
      "4              NaN  \n",
      "\n",
      "[5 rows x 61 columns]\n"
     ]
    }
   ],
   "source": [
    "train_gp_id = train.groupby('series_id')\n",
    "    \n",
    "for col in ['enmo', 'anglez']:\n",
    "    for n in [5, 30, 60, 120]:\n",
    "            \n",
    "        train[f'{col}_diff_{n}'] = train_gp_id[col].diff(periods=n)\n",
    "        train[f'{col}_mean_{n}'] = train[col].rolling(n).mean()\n",
    "        train[f'{col}_median_{n}'] = train[col].rolling(n).median()\n",
    "        train[f'{col}_max_{n}'] = train_gp_id[col].rolling(n).max().reset_index(drop=True)\n",
    "        train[f'{col}_min_{n}'] = train_gp_id[col].rolling(n).min().reset_index(drop=True)\n",
    "        train[f'{col}_skew_{n}'] = train_gp_id[col].rolling(n).skew().reset_index(drop=True)\n",
    "        train[f'{col}_kurt_{n}'] = train_gp_id[col].rolling(n).kurt().reset_index(drop=True)\n",
    "        gc.collect()\n",
    "            \n",
    "    print(f'Created diff and smoothed derivates from {col}')\n",
    "\n",
    "print(train.head())\n",
    "train = train_reset.copy()"
   ]
  },
  {
   "cell_type": "markdown",
   "metadata": {},
   "source": [
    "### Time lag and lead\n",
    "- Creation of lag and lead features for 'enmo' and 'anglez' allowing model to consider past and future values\n",
    "- Values can be anything dependent on what is important, if its a day, lag values will be 17280, an hour, 720"
   ]
  },
  {
   "cell_type": "code",
   "execution_count": 15,
   "metadata": {},
   "outputs": [
    {
     "name": "stdout",
     "output_type": "stream",
     "text": [
      "Created lag derivates from enmo\n",
      "Created lead derivates from enmo\n",
      "Created lag derivates from anglez\n",
      "Created lead derivates from anglez\n",
      "      series_id  step                 timestamp  anglez    enmo  enmo_lag_720  \\\n",
      "0  038441c925bb     0 2018-08-14 19:30:00+00:00  2.6367  0.0217           NaN   \n",
      "1  038441c925bb     1 2018-08-14 19:30:05+00:00  2.6368  0.0215           NaN   \n",
      "2  038441c925bb     2 2018-08-14 19:30:10+00:00  2.6370  0.0216           NaN   \n",
      "3  038441c925bb     3 2018-08-14 19:30:15+00:00  2.6368  0.0213           NaN   \n",
      "4  038441c925bb     4 2018-08-14 19:30:20+00:00  2.6368  0.0215           NaN   \n",
      "\n",
      "   enmo_lag_1440  enmo_lag_2160  enmo_lag_2880  enmo_lag_3600  ...  \\\n",
      "0            NaN            NaN            NaN            NaN  ...   \n",
      "1            NaN            NaN            NaN            NaN  ...   \n",
      "2            NaN            NaN            NaN            NaN  ...   \n",
      "3            NaN            NaN            NaN            NaN  ...   \n",
      "4            NaN            NaN            NaN            NaN  ...   \n",
      "\n",
      "   anglez_lag_16560  anglez_lead_1  anglez_lead_2  anglez_lead_3  \\\n",
      "0               NaN         2.6368         2.6370         2.6368   \n",
      "1               NaN         2.6370         2.6368         2.6368   \n",
      "2               NaN         2.6368         2.6368         2.6367   \n",
      "3               NaN         2.6368         2.6367         2.6367   \n",
      "4               NaN         2.6367         2.6367         2.6367   \n",
      "\n",
      "   anglez_lead_4  anglez_lead_5  anglez_lead_6  anglez_lead_7  anglez_lead_8  \\\n",
      "0         2.6368         2.6367         2.6367         2.6367         2.7980   \n",
      "1         2.6367         2.6367         2.6367         2.7980         3.0847   \n",
      "2         2.6367         2.6367         2.7980         3.0847         2.7802   \n",
      "3         2.6367         2.7980         3.0847         2.7802         2.5205   \n",
      "4         2.7980         3.0847         2.7802         2.5205         2.4129   \n",
      "\n",
      "   anglez_lead_9  \n",
      "0         3.0847  \n",
      "1         2.7802  \n",
      "2         2.5205  \n",
      "3         2.4129  \n",
      "4         2.4129  \n",
      "\n",
      "[5 rows x 69 columns]\n"
     ]
    }
   ],
   "source": [
    "for col in ['enmo', 'anglez']:\n",
    "        \n",
    "        for n in range(720, 17280, 720):\n",
    "            train[f'{col}_lag_{n}'] = train_gp_id[col].shift(n)\n",
    "        gc.collect()\n",
    "        print(f'Created lag derivates from {col}')\n",
    "        \n",
    "        for n in range(1, 10):\n",
    "            train[f'{col}_lead_{n}'] = train_gp_id[col].shift(-n)\n",
    "        gc.collect() \n",
    "        print(f'Created lead derivates from {col}')\n",
    "\n",
    "print(train.head())\n",
    "train = train_reset.copy()"
   ]
  }
 ],
 "metadata": {
  "kernelspec": {
   "display_name": ".venv",
   "language": "python",
   "name": "python3"
  },
  "language_info": {
   "codemirror_mode": {
    "name": "ipython",
    "version": 3
   },
   "file_extension": ".py",
   "mimetype": "text/x-python",
   "name": "python",
   "nbconvert_exporter": "python",
   "pygments_lexer": "ipython3",
   "version": "3.11.3"
  },
  "orig_nbformat": 4
 },
 "nbformat": 4,
 "nbformat_minor": 2
}
