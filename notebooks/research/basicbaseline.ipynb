version https://git-lfs.github.com/spec/v1
oid sha256:0c0b82ac4b40649f0aaef4b25e198f7f936b8eb2fa545ae779706e56581b503e
size 20577217
