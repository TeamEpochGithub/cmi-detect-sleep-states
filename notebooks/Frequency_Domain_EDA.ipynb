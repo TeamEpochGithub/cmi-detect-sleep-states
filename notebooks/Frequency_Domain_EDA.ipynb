{
 "cells": [
  {
   "cell_type": "code",
   "execution_count": 1,
   "metadata": {
    "collapsed": true
   },
   "outputs": [],
   "source": [
    "import warnings\n",
    "with warnings.catch_warnings():\n",
    "    warnings.simplefilter(action='ignore', category=FutureWarning)\n",
    "\n",
    "import pandas as pd\n",
    "import matplotlib.pyplot as plt\n",
    "import seaborn as sns\n",
    "from IPython.display import Markdown\n",
    "from scipy import signal\n",
    "import numpy as np"
   ]
  },
  {
   "cell_type": "code",
   "execution_count": null,
   "outputs": [],
   "source": [
    "train_events = pd.read_csv(\"C:\\\\Users\\\\Tolga\\\\Downloads\\\\train_events.csv\")\n",
    "train_series = pd.read_parquet(\"C:\\\\Users\\\\Tolga\\Downloads\\\\train_series.parquet\")\n",
    "train_events.info()"
   ],
   "metadata": {
    "collapsed": false,
    "pycharm": {
     "is_executing": true
    }
   }
  },
  {
   "cell_type": "code",
   "execution_count": null,
   "outputs": [],
   "source": [
    "series_has_NaN = train_events.groupby('series_id')['step'].apply(lambda x: x.isnull().any())\n",
    "series_has_NaN.value_counts()\n",
    "df_has_NaN = series_has_NaN.to_frame()\n",
    "df_has_NaN.reset_index(inplace=True)\n",
    "notNaN = df_has_NaN.loc[df_has_NaN.step == False][\"series_id\"].to_list()\n",
    "print(f\"Number of series that do not contain NaN values: {len(notNaN)}, {notNaN}\")"
   ],
   "metadata": {
    "collapsed": false,
    "pycharm": {
     "is_executing": true
    }
   }
  },
  {
   "cell_type": "code",
   "execution_count": null,
   "outputs": [],
   "source": [
    "train_events = train_events.dropna()"
   ],
   "metadata": {
    "collapsed": false,
    "pycharm": {
     "is_executing": true
    }
   }
  },
  {
   "cell_type": "code",
   "execution_count": null,
   "outputs": [],
   "source": [
    "def get_train_series(train_series, train_events, series):\n",
    "    current_series = train_series[train_series[\"series_id\"] == series]\n",
    "    current_events = train_events[train_events[\"series_id\"] == series]\n",
    "\n",
    "    # cleaning etc.\n",
    "    current_events = current_events.dropna()\n",
    "    current_events[\"step\"] = current_events[\"step\"].astype(\"int\")\n",
    "    current_events[\"awake\"] = current_events[\"event\"].replace({\"onset\": 1, \"wakeup\": 0})\n",
    "\n",
    "    train = pd.merge(current_series, current_events[['step', 'awake']], on='step', how='left')\n",
    "    train[\"awake\"] = train[\"awake\"].bfill(axis='rows')\n",
    "    # final section:\n",
    "    # train_events.groupby('series_id').tail(1)[\"event\"].unique()\n",
    "    # Result: the last event is always a \"wakeup\"\n",
    "    train['awake'] = train['awake'].fillna(1)  # awake\n",
    "    train[\"awake\"] = train[\"awake\"].astype(\"int\")\n",
    "    return train"
   ],
   "metadata": {
    "collapsed": false,
    "pycharm": {
     "is_executing": true
    }
   }
  },
  {
   "cell_type": "code",
   "execution_count": null,
   "outputs": [],
   "source": [
    "clean_train_data = []\n",
    "import sys\n",
    "sys.path.insert(1,'../src')\n",
    "from spectogram import spectogram\n",
    "\n",
    "for series_id in notNaN[:1]:\n",
    "    train = get_train_series(train_series, train_events, series_id)\n",
    "    print(train.dtypes)\n",
    "    clean_train_data.append(train)\n",
    "\n",
    "    # get the indices of when a state transition occurs to visualize in the stft plots\n",
    "    #display(train['awake'])\n",
    "    diffs = np.diff(train['awake'])\n",
    "    idxs = np.where(np.abs(diffs) == 1)\n",
    "    print(np.shape(idxs))\n",
    "    # the timestamps are 5 seconds per step\n",
    "    timestamps = np.multiply(idxs, [5])\n",
    "    # separate the anglez and enmo values for later\n",
    "    anglez = train['anglez']\n",
    "    enmo = train['enmo']\n",
    "    # use stft from scipy to generate fft over time curve\n",
    "    # Important: To be able to use fft and stft we need to know the sampling freq.\n",
    "    # ie. frequency at which our data was collected. Since we get 1 sample every 5 seconds our\n",
    "    # Fs = 0.2 Hz\n",
    "    fs = 0.2\n",
    "\n",
    "    # visualize anglez over steps\n",
    "    display(Markdown('###  anglez for series ' + series_id))\n",
    "    plt.figure(figsize=(20, 3))\n",
    "    sns.lineplot(data=train, x=\"step\", y=\"anglez\",hue=\"awake\", linewidth = 0.5)\n",
    "    plt.show()\n",
    "\n",
    "    # do stft on the anglez data\n",
    "    f, t, Zxx = signal.stft(anglez.to_numpy(), fs, nperseg=256)\n",
    "    Y_abs = np.abs(Zxx)\n",
    "\n",
    "    #plot the stft results for anglez\n",
    "    plt.figure(figsize=(20, 3))\n",
    "    #Set the max scale of the colormesh to mean+5*std otherwise outliers make the graph unreadable\n",
    "    plt.pcolormesh(t, f, np.abs(Zxx),vmax=np.mean(Y_abs)+5*np.std(Y_abs),shading='gouraud')\n",
    "    plt.vlines(timestamps, ymin=0, ymax = fs/2)\n",
    "    plt.title('STFT Magnitude for anglez')\n",
    "    plt.ylabel('Frequency [Hz]')\n",
    "    plt.xlabel('Time [s]')\n",
    "    plt.show()\n",
    "\n",
    "    # display the enmo values over time\n",
    "    display(Markdown('###  enmo for series ' + series_id))\n",
    "    plt.figure(figsize=(20, 3))\n",
    "    sns.lineplot(data=train, x=\"step\", y=\"enmo\",hue=\"awake\", linewidth = 0.5)\n",
    "    plt.show()\n",
    "\n",
    "    # calculate the stft results for the enmo\n",
    "    f, t, Zxx = signal.stft(enmo.to_numpy(), fs, nperseg=256)\n",
    "    Y_abs = np.abs(Zxx)\n",
    "    #img = spectogram(plot = False, y = enmo.to_numpy(), fs = fs, nperseg = 256)\n",
    "    #plt.imshow(img)\n",
    "\n",
    "    #plot the stft results for the enmo\n",
    "    plt.figure(figsize=(20, 3))\n",
    "    #Set the max scale of the colormesh to mean+5*std otherwise outliers make the graph unreadable\n",
    "    plt.pcolormesh(t, f, np.abs(Zxx),vmax=np.mean(Y_abs)+5*np.std(Y_abs),shading='gouraud')\n",
    "    plt.vlines(timestamps, ymin=0, ymax = fs/2)\n",
    "    plt.title('STFT Magnitude for enmo')\n",
    "    plt.ylabel('Frequency [Hz]')\n",
    "    plt.xlabel('Time [s]')\n",
    "\n",
    "    del train"
   ],
   "metadata": {
    "collapsed": false,
    "pycharm": {
     "is_executing": true
    }
   }
  },
  {
   "cell_type": "code",
   "execution_count": null,
   "outputs": [],
   "source": [],
   "metadata": {
    "collapsed": false,
    "pycharm": {
     "is_executing": true
    }
   }
  }
 ],
 "metadata": {
  "kernelspec": {
   "display_name": "Python 3",
   "language": "python",
   "name": "python3"
  },
  "language_info": {
   "codemirror_mode": {
    "name": "ipython",
    "version": 2
   },
   "file_extension": ".py",
   "mimetype": "text/x-python",
   "name": "python",
   "nbconvert_exporter": "python",
   "pygments_lexer": "ipython2",
   "version": "2.7.6"
  }
 },
 "nbformat": 4,
 "nbformat_minor": 0
}
