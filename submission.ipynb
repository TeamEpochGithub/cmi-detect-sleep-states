{
 "cells": [
  {
   "cell_type": "markdown",
   "metadata": {},
   "source": [
    "This is an example notebook for making submissions\n",
    "- This notebook can be run to test submission\n",
    "- The src code needs to be zipped and added as data with the title 'source-version'"
   ]
  },
  {
   "cell_type": "code",
   "execution_count": 1,
   "metadata": {},
   "outputs": [],
   "source": [
    "import sys\n",
    "sys.path.append('/kaggle/input/source')\n",
    "from source import kaggle"
   ]
  },
  {
   "cell_type": "code",
   "execution_count": 2,
   "metadata": {},
   "outputs": [
    {
     "name": "stdout",
     "output_type": "stream",
     "text": [
      "{'name': 'config', 'preprocessing': ['mem_reduce'], 'processed_loc_out': './data/processed', 'processed_loc_in': './data/raw', 'feature_engineering': ['example_feature_engineering'], 'fe_loc_out': './data/features', 'fe_loc_in': './data/processed', 'models': {'model1name': {'type': 'example_model', 'epochs': 100, 'patch_size': 8, 'layers': 5}, 'model2name': {'type': 'example_model', 'epochs': 100, 'patch_size': 8, 'layers': 5}}, 'model_store_loc': './tm', 'ensemble': {'models': ['model1name', 'model2name'], 'weights': [1, 2], 'comb_method': 'addition'}, 'loss': 'example_loss', 'hpo': {'apply': True, 'method': 'example_hpo'}, 'cv': {'apply': True, 'method': 'example_cv'}, 'scoring': True}\n"
     ]
    }
   ],
   "source": [
    "# Run kaggle.py\n",
    "# In editor \"data/raw/test_series.parquet\" is used as input\n",
    "# In kaggle notebook \"/kaggle/input/child-mind-institute-detect-sleep-states/test_series.parquet\" is used as input\n",
    "kaggle.submit('data/raw/test_series.parquet', submit=True)"
   ]
  }
 ],
 "metadata": {
  "kernelspec": {
   "display_name": ".venv",
   "language": "python",
   "name": "python3"
  },
  "language_info": {
   "codemirror_mode": {
    "name": "ipython",
    "version": 3
   },
   "file_extension": ".py",
   "mimetype": "text/x-python",
   "name": "python",
   "nbconvert_exporter": "python",
   "pygments_lexer": "ipython3",
   "version": "3.11.3"
  },
  "orig_nbformat": 4
 },
 "nbformat": 4,
 "nbformat_minor": 2
}
