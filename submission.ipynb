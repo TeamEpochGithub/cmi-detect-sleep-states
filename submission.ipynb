{
 "cells": [
  {
   "cell_type": "markdown",
   "metadata": {},
   "source": [
    "This is an example notebook for making submissions\n",
    "- This notebook can be run to test submission\n",
    "- The src code needs to be zipped and added as data with the title 'source-version'"
   ]
  },
  {
   "cell_type": "code",
   "execution_count": 1,
   "metadata": {
    "ExecuteTime": {
     "end_time": "2023-10-02T09:39:26.315769400Z",
     "start_time": "2023-10-02T09:39:25.081784Z"
    }
   },
   "outputs": [],
   "source": [
    "from src import submit_to_kaggle\n",
    "from src.configs.load_config import ConfigLoader"
   ]
  },
  {
   "cell_type": "code",
   "execution_count": 2,
   "metadata": {
    "ExecuteTime": {
     "end_time": "2023-10-02T09:39:28.454983500Z",
     "start_time": "2023-10-02T09:39:27.128042800Z"
    }
   },
   "outputs": [
    {
     "name": "stdout",
     "output_type": "stream",
     "text": [
      "Preprocessed data already exists, reading from data/processed/add_state_labels.parquet\n",
      "Data read from data/processed/add_state_labels.parquet\n",
      "Feature already exists, reading from data/features/add_state_labels_split_windows_kurtosis['anglez','enmo'][5,10].parquet\n",
      "Data read from data/features/add_state_labels_split_windows_kurtosis['anglez','enmo'][5,10].parquet\n",
      "Feature already exists, reading from data/features/add_state_labels_split_windows_kurtosis['anglez','enmo'][5,10]_skewness['anglez','enmo'][5,10].parquet\n",
      "Data read from data/features/add_state_labels_split_windows_kurtosis['anglez','enmo'][5,10]_skewness['anglez','enmo'][5,10].parquet\n",
      "Feature already exists, reading from data/features/add_state_labels_split_windows_kurtosis['anglez','enmo'][5,10]_skewness['anglez','enmo'][5,10]_mean['anglez','enmo'][5,10].parquet\n",
      "Data read from data/features/add_state_labels_split_windows_kurtosis['anglez','enmo'][5,10]_skewness['anglez','enmo'][5,10]_mean['anglez','enmo'][5,10].parquet\n",
      "Predicting with ensemble\n",
      "Saved submission.csv to C:\\Users\\EmielW\\Epoch\\Competitions\\cmi\\q1-detect-sleep-states\\submission.csv\n"
     ]
    }
   ],
   "source": [
    "# Run kaggle.py\n",
    "# In editor \"data/raw/test_series.parquet\" is used as input\n",
    "# In kaggle notebook \"/kaggle/input/child-mind-institute-detect-sleep-states/test_series.parquet\" is used as input\n",
    "\n",
    "config = ConfigLoader(\"config.json\")\n",
    "submit_to_kaggle.submit(config, 'data/raw/test_series.parquet', submit=True)"
   ]
  }
 ],
 "metadata": {
  "kernelspec": {
   "display_name": ".venv",
   "language": "python",
   "name": "python3"
  },
  "language_info": {
   "codemirror_mode": {
    "name": "ipython",
    "version": 3
   },
   "file_extension": ".py",
   "mimetype": "text/x-python",
   "name": "python",
   "nbconvert_exporter": "python",
   "pygments_lexer": "ipython3",
   "version": "3.11.3"
  },
  "orig_nbformat": 4
 },
 "nbformat": 4,
 "nbformat_minor": 2
}
