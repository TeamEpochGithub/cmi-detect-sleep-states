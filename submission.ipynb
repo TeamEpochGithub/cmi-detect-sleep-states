{
 "cells": [
  {
   "cell_type": "markdown",
   "metadata": {},
   "source": [
    "This is an example notebook for making submissions\n",
    "- This notebook can be run to test submission\n",
    "- The src code needs to be zipped and added as data with the title 'source-version'"
   ]
  },
  {
   "cell_type": "code",
   "execution_count": 1,
   "metadata": {},
   "outputs": [],
   "source": [
    "import submit_to_kaggle"
   ]
  },
  {
   "cell_type": "code",
   "execution_count": 4,
   "metadata": {},
   "outputs": [],
   "source": [
    "# Run kaggle.py\n",
    "# In editor \"data/raw/test_series.parquet\" is used as input\n",
    "# In kaggle notebook \"/kaggle/input/child-mind-institute-detect-sleep-states/test_series.parquet\" is used as input\n",
    "submit_to_kaggle.submit('data/raw/test_series.parquet', submit=True)"
   ]
  }
 ],
 "metadata": {
  "kernelspec": {
   "display_name": ".venv",
   "language": "python",
   "name": "python3"
  },
  "language_info": {
   "codemirror_mode": {
    "name": "ipython",
    "version": 3
   },
   "file_extension": ".py",
   "mimetype": "text/x-python",
   "name": "python",
   "nbconvert_exporter": "python",
   "pygments_lexer": "ipython3",
   "version": "3.11.3"
  },
  "orig_nbformat": 4
 },
 "nbformat": 4,
 "nbformat_minor": 2
}
